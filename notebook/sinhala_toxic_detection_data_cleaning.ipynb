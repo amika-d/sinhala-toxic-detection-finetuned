{
  "nbformat": 4,
  "nbformat_minor": 0,
  "metadata": {
    "colab": {
      "provenance": [],
      "gpuType": "A100",
      "machine_shape": "hm"
    },
    "kernelspec": {
      "name": "python3",
      "display_name": "Python 3"
    },
    "language_info": {
      "name": "python"
    },
    "accelerator": "GPU"
  },
  "cells": [
    {
      "cell_type": "code",
      "source": [],
      "metadata": {
        "id": "DfgF7MWmXiZI"
      },
      "execution_count": null,
      "outputs": []
    },
    {
      "cell_type": "code",
      "source": [
        "!nvidia-smi\n"
      ],
      "metadata": {
        "colab": {
          "base_uri": "https://localhost:8080/"
        },
        "id": "nXvHebRyYEh1",
        "outputId": "af5b6392-4d2d-4428-b6df-9abaafd16b7a"
      },
      "execution_count": 1,
      "outputs": [
        {
          "output_type": "stream",
          "name": "stdout",
          "text": [
            "Sun Jul  6 10:43:37 2025       \n",
            "+-----------------------------------------------------------------------------------------+\n",
            "| NVIDIA-SMI 550.54.15              Driver Version: 550.54.15      CUDA Version: 12.4     |\n",
            "|-----------------------------------------+------------------------+----------------------+\n",
            "| GPU  Name                 Persistence-M | Bus-Id          Disp.A | Volatile Uncorr. ECC |\n",
            "| Fan  Temp   Perf          Pwr:Usage/Cap |           Memory-Usage | GPU-Util  Compute M. |\n",
            "|                                         |                        |               MIG M. |\n",
            "|=========================================+========================+======================|\n",
            "|   0  NVIDIA A100-SXM4-40GB          Off |   00000000:00:04.0 Off |                    0 |\n",
            "| N/A   31C    P0             44W /  400W |       0MiB /  40960MiB |      0%      Default |\n",
            "|                                         |                        |             Disabled |\n",
            "+-----------------------------------------+------------------------+----------------------+\n",
            "                                                                                         \n",
            "+-----------------------------------------------------------------------------------------+\n",
            "| Processes:                                                                              |\n",
            "|  GPU   GI   CI        PID   Type   Process name                              GPU Memory |\n",
            "|        ID   ID                                                               Usage      |\n",
            "|=========================================================================================|\n",
            "|  No running processes found                                                             |\n",
            "+-----------------------------------------------------------------------------------------+\n"
          ]
        }
      ]
    },
    {
      "cell_type": "code",
      "source": [
        "!pip install transformers torch datasets accelerate evaluate scikit-learn wandb\n",
        "!pip install torch torchvision torchaudio\n",
        "!pip install imbalanced-learn optuna"
      ],
      "metadata": {
        "colab": {
          "base_uri": "https://localhost:8080/"
        },
        "id": "qv8S_ZoEXXps",
        "outputId": "603a0258-1104-42c5-efd6-63382130946b"
      },
      "execution_count": 2,
      "outputs": [
        {
          "output_type": "stream",
          "name": "stdout",
          "text": [
            "Requirement already satisfied: transformers in /usr/local/lib/python3.11/dist-packages (4.53.1)\n",
            "Requirement already satisfied: torch in /usr/local/lib/python3.11/dist-packages (2.6.0+cu124)\n",
            "Requirement already satisfied: datasets in /usr/local/lib/python3.11/dist-packages (3.6.0)\n",
            "Requirement already satisfied: accelerate in /usr/local/lib/python3.11/dist-packages (1.8.1)\n",
            "Requirement already satisfied: evaluate in /usr/local/lib/python3.11/dist-packages (0.4.4)\n",
            "Requirement already satisfied: scikit-learn in /usr/local/lib/python3.11/dist-packages (1.6.1)\n",
            "Requirement already satisfied: wandb in /usr/local/lib/python3.11/dist-packages (0.20.1)\n",
            "Requirement already satisfied: filelock in /usr/local/lib/python3.11/dist-packages (from transformers) (3.18.0)\n",
            "Requirement already satisfied: huggingface-hub<1.0,>=0.30.0 in /usr/local/lib/python3.11/dist-packages (from transformers) (0.33.1)\n",
            "Requirement already satisfied: numpy>=1.17 in /usr/local/lib/python3.11/dist-packages (from transformers) (2.0.2)\n",
            "Requirement already satisfied: packaging>=20.0 in /usr/local/lib/python3.11/dist-packages (from transformers) (24.2)\n",
            "Requirement already satisfied: pyyaml>=5.1 in /usr/local/lib/python3.11/dist-packages (from transformers) (6.0.2)\n",
            "Requirement already satisfied: regex!=2019.12.17 in /usr/local/lib/python3.11/dist-packages (from transformers) (2024.11.6)\n",
            "Requirement already satisfied: requests in /usr/local/lib/python3.11/dist-packages (from transformers) (2.32.3)\n",
            "Requirement already satisfied: tokenizers<0.22,>=0.21 in /usr/local/lib/python3.11/dist-packages (from transformers) (0.21.2)\n",
            "Requirement already satisfied: safetensors>=0.4.3 in /usr/local/lib/python3.11/dist-packages (from transformers) (0.5.3)\n",
            "Requirement already satisfied: tqdm>=4.27 in /usr/local/lib/python3.11/dist-packages (from transformers) (4.67.1)\n",
            "Requirement already satisfied: typing-extensions>=4.10.0 in /usr/local/lib/python3.11/dist-packages (from torch) (4.14.0)\n",
            "Requirement already satisfied: networkx in /usr/local/lib/python3.11/dist-packages (from torch) (3.5)\n",
            "Requirement already satisfied: jinja2 in /usr/local/lib/python3.11/dist-packages (from torch) (3.1.6)\n",
            "Requirement already satisfied: fsspec in /usr/local/lib/python3.11/dist-packages (from torch) (2025.3.0)\n",
            "Requirement already satisfied: nvidia-cuda-nvrtc-cu12==12.4.127 in /usr/local/lib/python3.11/dist-packages (from torch) (12.4.127)\n",
            "Requirement already satisfied: nvidia-cuda-runtime-cu12==12.4.127 in /usr/local/lib/python3.11/dist-packages (from torch) (12.4.127)\n",
            "Requirement already satisfied: nvidia-cuda-cupti-cu12==12.4.127 in /usr/local/lib/python3.11/dist-packages (from torch) (12.4.127)\n",
            "Requirement already satisfied: nvidia-cudnn-cu12==9.1.0.70 in /usr/local/lib/python3.11/dist-packages (from torch) (9.1.0.70)\n",
            "Requirement already satisfied: nvidia-cublas-cu12==12.4.5.8 in /usr/local/lib/python3.11/dist-packages (from torch) (12.4.5.8)\n",
            "Requirement already satisfied: nvidia-cufft-cu12==11.2.1.3 in /usr/local/lib/python3.11/dist-packages (from torch) (11.2.1.3)\n",
            "Requirement already satisfied: nvidia-curand-cu12==10.3.5.147 in /usr/local/lib/python3.11/dist-packages (from torch) (10.3.5.147)\n",
            "Requirement already satisfied: nvidia-cusolver-cu12==11.6.1.9 in /usr/local/lib/python3.11/dist-packages (from torch) (11.6.1.9)\n",
            "Requirement already satisfied: nvidia-cusparse-cu12==12.3.1.170 in /usr/local/lib/python3.11/dist-packages (from torch) (12.3.1.170)\n",
            "Requirement already satisfied: nvidia-cusparselt-cu12==0.6.2 in /usr/local/lib/python3.11/dist-packages (from torch) (0.6.2)\n",
            "Requirement already satisfied: nvidia-nccl-cu12==2.21.5 in /usr/local/lib/python3.11/dist-packages (from torch) (2.21.5)\n",
            "Requirement already satisfied: nvidia-nvtx-cu12==12.4.127 in /usr/local/lib/python3.11/dist-packages (from torch) (12.4.127)\n",
            "Requirement already satisfied: nvidia-nvjitlink-cu12==12.4.127 in /usr/local/lib/python3.11/dist-packages (from torch) (12.4.127)\n",
            "Requirement already satisfied: triton==3.2.0 in /usr/local/lib/python3.11/dist-packages (from torch) (3.2.0)\n",
            "Requirement already satisfied: sympy==1.13.1 in /usr/local/lib/python3.11/dist-packages (from torch) (1.13.1)\n",
            "Requirement already satisfied: mpmath<1.4,>=1.1.0 in /usr/local/lib/python3.11/dist-packages (from sympy==1.13.1->torch) (1.3.0)\n",
            "Requirement already satisfied: pyarrow>=15.0.0 in /usr/local/lib/python3.11/dist-packages (from datasets) (18.1.0)\n",
            "Requirement already satisfied: dill<0.3.9,>=0.3.0 in /usr/local/lib/python3.11/dist-packages (from datasets) (0.3.7)\n",
            "Requirement already satisfied: pandas in /usr/local/lib/python3.11/dist-packages (from datasets) (2.2.2)\n",
            "Requirement already satisfied: xxhash in /usr/local/lib/python3.11/dist-packages (from datasets) (3.5.0)\n",
            "Requirement already satisfied: multiprocess<0.70.17 in /usr/local/lib/python3.11/dist-packages (from datasets) (0.70.15)\n",
            "Requirement already satisfied: psutil in /usr/local/lib/python3.11/dist-packages (from accelerate) (5.9.5)\n",
            "Requirement already satisfied: scipy>=1.6.0 in /usr/local/lib/python3.11/dist-packages (from scikit-learn) (1.15.3)\n",
            "Requirement already satisfied: joblib>=1.2.0 in /usr/local/lib/python3.11/dist-packages (from scikit-learn) (1.5.1)\n",
            "Requirement already satisfied: threadpoolctl>=3.1.0 in /usr/local/lib/python3.11/dist-packages (from scikit-learn) (3.6.0)\n",
            "Requirement already satisfied: click!=8.0.0,>=7.1 in /usr/local/lib/python3.11/dist-packages (from wandb) (8.2.1)\n",
            "Requirement already satisfied: gitpython!=3.1.29,>=1.0.0 in /usr/local/lib/python3.11/dist-packages (from wandb) (3.1.44)\n",
            "Requirement already satisfied: platformdirs in /usr/local/lib/python3.11/dist-packages (from wandb) (4.3.8)\n",
            "Requirement already satisfied: protobuf!=4.21.0,!=5.28.0,<7,>=3.19.0 in /usr/local/lib/python3.11/dist-packages (from wandb) (5.29.5)\n",
            "Requirement already satisfied: pydantic<3 in /usr/local/lib/python3.11/dist-packages (from wandb) (2.11.7)\n",
            "Requirement already satisfied: sentry-sdk>=2.0.0 in /usr/local/lib/python3.11/dist-packages (from wandb) (2.32.0)\n",
            "Requirement already satisfied: setproctitle in /usr/local/lib/python3.11/dist-packages (from wandb) (1.3.6)\n",
            "Requirement already satisfied: aiohttp!=4.0.0a0,!=4.0.0a1 in /usr/local/lib/python3.11/dist-packages (from fsspec[http]<=2025.3.0,>=2023.1.0->datasets) (3.11.15)\n",
            "Requirement already satisfied: gitdb<5,>=4.0.1 in /usr/local/lib/python3.11/dist-packages (from gitpython!=3.1.29,>=1.0.0->wandb) (4.0.12)\n",
            "Requirement already satisfied: hf-xet<2.0.0,>=1.1.2 in /usr/local/lib/python3.11/dist-packages (from huggingface-hub<1.0,>=0.30.0->transformers) (1.1.5)\n",
            "Requirement already satisfied: annotated-types>=0.6.0 in /usr/local/lib/python3.11/dist-packages (from pydantic<3->wandb) (0.7.0)\n",
            "Requirement already satisfied: pydantic-core==2.33.2 in /usr/local/lib/python3.11/dist-packages (from pydantic<3->wandb) (2.33.2)\n",
            "Requirement already satisfied: typing-inspection>=0.4.0 in /usr/local/lib/python3.11/dist-packages (from pydantic<3->wandb) (0.4.1)\n",
            "Requirement already satisfied: charset-normalizer<4,>=2 in /usr/local/lib/python3.11/dist-packages (from requests->transformers) (3.4.2)\n",
            "Requirement already satisfied: idna<4,>=2.5 in /usr/local/lib/python3.11/dist-packages (from requests->transformers) (3.10)\n",
            "Requirement already satisfied: urllib3<3,>=1.21.1 in /usr/local/lib/python3.11/dist-packages (from requests->transformers) (2.4.0)\n",
            "Requirement already satisfied: certifi>=2017.4.17 in /usr/local/lib/python3.11/dist-packages (from requests->transformers) (2025.6.15)\n",
            "Requirement already satisfied: MarkupSafe>=2.0 in /usr/local/lib/python3.11/dist-packages (from jinja2->torch) (3.0.2)\n",
            "Requirement already satisfied: python-dateutil>=2.8.2 in /usr/local/lib/python3.11/dist-packages (from pandas->datasets) (2.9.0.post0)\n",
            "Requirement already satisfied: pytz>=2020.1 in /usr/local/lib/python3.11/dist-packages (from pandas->datasets) (2025.2)\n",
            "Requirement already satisfied: tzdata>=2022.7 in /usr/local/lib/python3.11/dist-packages (from pandas->datasets) (2025.2)\n",
            "Requirement already satisfied: aiohappyeyeballs>=2.3.0 in /usr/local/lib/python3.11/dist-packages (from aiohttp!=4.0.0a0,!=4.0.0a1->fsspec[http]<=2025.3.0,>=2023.1.0->datasets) (2.6.1)\n",
            "Requirement already satisfied: aiosignal>=1.1.2 in /usr/local/lib/python3.11/dist-packages (from aiohttp!=4.0.0a0,!=4.0.0a1->fsspec[http]<=2025.3.0,>=2023.1.0->datasets) (1.3.2)\n",
            "Requirement already satisfied: attrs>=17.3.0 in /usr/local/lib/python3.11/dist-packages (from aiohttp!=4.0.0a0,!=4.0.0a1->fsspec[http]<=2025.3.0,>=2023.1.0->datasets) (25.3.0)\n",
            "Requirement already satisfied: frozenlist>=1.1.1 in /usr/local/lib/python3.11/dist-packages (from aiohttp!=4.0.0a0,!=4.0.0a1->fsspec[http]<=2025.3.0,>=2023.1.0->datasets) (1.7.0)\n",
            "Requirement already satisfied: multidict<7.0,>=4.5 in /usr/local/lib/python3.11/dist-packages (from aiohttp!=4.0.0a0,!=4.0.0a1->fsspec[http]<=2025.3.0,>=2023.1.0->datasets) (6.6.3)\n",
            "Requirement already satisfied: propcache>=0.2.0 in /usr/local/lib/python3.11/dist-packages (from aiohttp!=4.0.0a0,!=4.0.0a1->fsspec[http]<=2025.3.0,>=2023.1.0->datasets) (0.3.2)\n",
            "Requirement already satisfied: yarl<2.0,>=1.17.0 in /usr/local/lib/python3.11/dist-packages (from aiohttp!=4.0.0a0,!=4.0.0a1->fsspec[http]<=2025.3.0,>=2023.1.0->datasets) (1.20.1)\n",
            "Requirement already satisfied: smmap<6,>=3.0.1 in /usr/local/lib/python3.11/dist-packages (from gitdb<5,>=4.0.1->gitpython!=3.1.29,>=1.0.0->wandb) (5.0.2)\n",
            "Requirement already satisfied: six>=1.5 in /usr/local/lib/python3.11/dist-packages (from python-dateutil>=2.8.2->pandas->datasets) (1.17.0)\n",
            "Requirement already satisfied: torch in /usr/local/lib/python3.11/dist-packages (2.6.0+cu124)\n",
            "Requirement already satisfied: torchvision in /usr/local/lib/python3.11/dist-packages (0.21.0+cu124)\n",
            "Requirement already satisfied: torchaudio in /usr/local/lib/python3.11/dist-packages (2.6.0+cu124)\n",
            "Requirement already satisfied: filelock in /usr/local/lib/python3.11/dist-packages (from torch) (3.18.0)\n",
            "Requirement already satisfied: typing-extensions>=4.10.0 in /usr/local/lib/python3.11/dist-packages (from torch) (4.14.0)\n",
            "Requirement already satisfied: networkx in /usr/local/lib/python3.11/dist-packages (from torch) (3.5)\n",
            "Requirement already satisfied: jinja2 in /usr/local/lib/python3.11/dist-packages (from torch) (3.1.6)\n",
            "Requirement already satisfied: fsspec in /usr/local/lib/python3.11/dist-packages (from torch) (2025.3.0)\n",
            "Requirement already satisfied: nvidia-cuda-nvrtc-cu12==12.4.127 in /usr/local/lib/python3.11/dist-packages (from torch) (12.4.127)\n",
            "Requirement already satisfied: nvidia-cuda-runtime-cu12==12.4.127 in /usr/local/lib/python3.11/dist-packages (from torch) (12.4.127)\n",
            "Requirement already satisfied: nvidia-cuda-cupti-cu12==12.4.127 in /usr/local/lib/python3.11/dist-packages (from torch) (12.4.127)\n",
            "Requirement already satisfied: nvidia-cudnn-cu12==9.1.0.70 in /usr/local/lib/python3.11/dist-packages (from torch) (9.1.0.70)\n",
            "Requirement already satisfied: nvidia-cublas-cu12==12.4.5.8 in /usr/local/lib/python3.11/dist-packages (from torch) (12.4.5.8)\n",
            "Requirement already satisfied: nvidia-cufft-cu12==11.2.1.3 in /usr/local/lib/python3.11/dist-packages (from torch) (11.2.1.3)\n",
            "Requirement already satisfied: nvidia-curand-cu12==10.3.5.147 in /usr/local/lib/python3.11/dist-packages (from torch) (10.3.5.147)\n",
            "Requirement already satisfied: nvidia-cusolver-cu12==11.6.1.9 in /usr/local/lib/python3.11/dist-packages (from torch) (11.6.1.9)\n",
            "Requirement already satisfied: nvidia-cusparse-cu12==12.3.1.170 in /usr/local/lib/python3.11/dist-packages (from torch) (12.3.1.170)\n",
            "Requirement already satisfied: nvidia-cusparselt-cu12==0.6.2 in /usr/local/lib/python3.11/dist-packages (from torch) (0.6.2)\n",
            "Requirement already satisfied: nvidia-nccl-cu12==2.21.5 in /usr/local/lib/python3.11/dist-packages (from torch) (2.21.5)\n",
            "Requirement already satisfied: nvidia-nvtx-cu12==12.4.127 in /usr/local/lib/python3.11/dist-packages (from torch) (12.4.127)\n",
            "Requirement already satisfied: nvidia-nvjitlink-cu12==12.4.127 in /usr/local/lib/python3.11/dist-packages (from torch) (12.4.127)\n",
            "Requirement already satisfied: triton==3.2.0 in /usr/local/lib/python3.11/dist-packages (from torch) (3.2.0)\n",
            "Requirement already satisfied: sympy==1.13.1 in /usr/local/lib/python3.11/dist-packages (from torch) (1.13.1)\n",
            "Requirement already satisfied: mpmath<1.4,>=1.1.0 in /usr/local/lib/python3.11/dist-packages (from sympy==1.13.1->torch) (1.3.0)\n",
            "Requirement already satisfied: numpy in /usr/local/lib/python3.11/dist-packages (from torchvision) (2.0.2)\n",
            "Requirement already satisfied: pillow!=8.3.*,>=5.3.0 in /usr/local/lib/python3.11/dist-packages (from torchvision) (11.2.1)\n",
            "Requirement already satisfied: MarkupSafe>=2.0 in /usr/local/lib/python3.11/dist-packages (from jinja2->torch) (3.0.2)\n",
            "Requirement already satisfied: imbalanced-learn in /usr/local/lib/python3.11/dist-packages (0.13.0)\n",
            "Requirement already satisfied: optuna in /usr/local/lib/python3.11/dist-packages (4.4.0)\n",
            "Requirement already satisfied: numpy<3,>=1.24.3 in /usr/local/lib/python3.11/dist-packages (from imbalanced-learn) (2.0.2)\n",
            "Requirement already satisfied: scipy<2,>=1.10.1 in /usr/local/lib/python3.11/dist-packages (from imbalanced-learn) (1.15.3)\n",
            "Requirement already satisfied: scikit-learn<2,>=1.3.2 in /usr/local/lib/python3.11/dist-packages (from imbalanced-learn) (1.6.1)\n",
            "Requirement already satisfied: sklearn-compat<1,>=0.1 in /usr/local/lib/python3.11/dist-packages (from imbalanced-learn) (0.1.3)\n",
            "Requirement already satisfied: joblib<2,>=1.1.1 in /usr/local/lib/python3.11/dist-packages (from imbalanced-learn) (1.5.1)\n",
            "Requirement already satisfied: threadpoolctl<4,>=2.0.0 in /usr/local/lib/python3.11/dist-packages (from imbalanced-learn) (3.6.0)\n",
            "Requirement already satisfied: alembic>=1.5.0 in /usr/local/lib/python3.11/dist-packages (from optuna) (1.16.2)\n",
            "Requirement already satisfied: colorlog in /usr/local/lib/python3.11/dist-packages (from optuna) (6.9.0)\n",
            "Requirement already satisfied: packaging>=20.0 in /usr/local/lib/python3.11/dist-packages (from optuna) (24.2)\n",
            "Requirement already satisfied: sqlalchemy>=1.4.2 in /usr/local/lib/python3.11/dist-packages (from optuna) (2.0.41)\n",
            "Requirement already satisfied: tqdm in /usr/local/lib/python3.11/dist-packages (from optuna) (4.67.1)\n",
            "Requirement already satisfied: PyYAML in /usr/local/lib/python3.11/dist-packages (from optuna) (6.0.2)\n",
            "Requirement already satisfied: Mako in /usr/lib/python3/dist-packages (from alembic>=1.5.0->optuna) (1.1.3)\n",
            "Requirement already satisfied: typing-extensions>=4.12 in /usr/local/lib/python3.11/dist-packages (from alembic>=1.5.0->optuna) (4.14.0)\n",
            "Requirement already satisfied: greenlet>=1 in /usr/local/lib/python3.11/dist-packages (from sqlalchemy>=1.4.2->optuna) (3.2.3)\n"
          ]
        }
      ]
    },
    {
      "cell_type": "markdown",
      "source": [
        "Finetuning\n"
      ],
      "metadata": {
        "id": "mKANscfjbYvr"
      }
    },
    {
      "cell_type": "code",
      "source": [
        "import pandas as pd\n",
        "import numpy as np\n",
        "import torch\n",
        "from torch.utils.data import Dataset, DataLoader, WeightedRandomSampler\n",
        "from transformers import (\n",
        "    AutoTokenizer,\n",
        "    AutoModelForSequenceClassification,\n",
        "    TrainingArguments,\n",
        "    Trainer,\n",
        "    EarlyStoppingCallback\n",
        ")\n",
        "from datasets import Dataset as HFDataset\n",
        "from sklearn.model_selection import train_test_split\n",
        "from sklearn.metrics import accuracy_score, precision_recall_fscore_support, confusion_matrix\n",
        "import matplotlib.pyplot as plt\n",
        "import seaborn as sns\n",
        "import warnings\n",
        "warnings.filterwarnings('ignore')\n",
        "\n",
        "device = torch.device('cuda' if torch.cuda.is_available() else 'cpu')\n",
        "print(f\"Using device: {device}\")\n",
        "if torch.cuda.is_available():\n",
        "    print(f\"GPU: {torch.cuda.get_device_name(0)}\")\n",
        "    print(f\"GPU Memory: {torch.cuda.get_device_properties(0).total_memory / 1024**3:.1f} GB\")"
      ],
      "metadata": {
        "colab": {
          "base_uri": "https://localhost:8080/"
        },
        "id": "XRaGsUp2bWky",
        "outputId": "0ba4141e-9b72-447b-bf88-836743811fdd"
      },
      "execution_count": 3,
      "outputs": [
        {
          "output_type": "stream",
          "name": "stdout",
          "text": [
            "Using device: cuda\n",
            "GPU: NVIDIA A100-SXM4-40GB\n",
            "GPU Memory: 39.6 GB\n"
          ]
        }
      ]
    },
    {
      "cell_type": "code",
      "source": [
        "\n",
        "df = pd.read_csv('/dataset/cleaned_sinhala_comments.csv')\n"
      ],
      "metadata": {
        "id": "7GnTpBcZphuS"
      },
      "execution_count": 4,
      "outputs": []
    },
    {
      "cell_type": "code",
      "source": [
        "df.head()\n",
        "df.drop(columns=['comment'], inplace=True)\n"
      ],
      "metadata": {
        "id": "Vqsb4ke4q_0R"
      },
      "execution_count": 5,
      "outputs": []
    },
    {
      "cell_type": "code",
      "source": [
        "\n",
        "df = df.rename(columns={'cleaned_comment': 'text'})\n",
        "df.head()"
      ],
      "metadata": {
        "colab": {
          "base_uri": "https://localhost:8080/",
          "height": 206
        },
        "id": "kB9zyFvgse_r",
        "outputId": "1e6f307b-5ea1-4fac-ea38-ad325a519943"
      },
      "execution_count": 6,
      "outputs": [
        {
          "output_type": "execute_result",
          "data": {
            "text/plain": [
              "   id  label                                              text\n",
              "0   1      0                       හුදෙකලා එකේ ද ඇහෙනවද කාටහරි\n",
              "1   2      0                              18ක පෙනුමක් තියෙන්නේ\n",
              "2   3      0  2020 එනවා කිව්නාට මෙහෙම එයි කියලා හිතුවේ නෑ පට්ට\n",
              "3   4      0                                     25 කැල්ලහම්මෝ\n",
              "4   5      1                 25 කෙල්ල අයියලගෙ කාලද කොහෙද ඉන්නෙ"
            ],
            "text/html": [
              "\n",
              "  <div id=\"df-ab405e8c-f73b-42fc-8248-be6aaebcf5cc\" class=\"colab-df-container\">\n",
              "    <div>\n",
              "<style scoped>\n",
              "    .dataframe tbody tr th:only-of-type {\n",
              "        vertical-align: middle;\n",
              "    }\n",
              "\n",
              "    .dataframe tbody tr th {\n",
              "        vertical-align: top;\n",
              "    }\n",
              "\n",
              "    .dataframe thead th {\n",
              "        text-align: right;\n",
              "    }\n",
              "</style>\n",
              "<table border=\"1\" class=\"dataframe\">\n",
              "  <thead>\n",
              "    <tr style=\"text-align: right;\">\n",
              "      <th></th>\n",
              "      <th>id</th>\n",
              "      <th>label</th>\n",
              "      <th>text</th>\n",
              "    </tr>\n",
              "  </thead>\n",
              "  <tbody>\n",
              "    <tr>\n",
              "      <th>0</th>\n",
              "      <td>1</td>\n",
              "      <td>0</td>\n",
              "      <td>හුදෙකලා එකේ ද ඇහෙනවද කාටහරි</td>\n",
              "    </tr>\n",
              "    <tr>\n",
              "      <th>1</th>\n",
              "      <td>2</td>\n",
              "      <td>0</td>\n",
              "      <td>18ක පෙනුමක් තියෙන්නේ</td>\n",
              "    </tr>\n",
              "    <tr>\n",
              "      <th>2</th>\n",
              "      <td>3</td>\n",
              "      <td>0</td>\n",
              "      <td>2020 එනවා කිව්නාට මෙහෙම එයි කියලා හිතුවේ නෑ පට්ට</td>\n",
              "    </tr>\n",
              "    <tr>\n",
              "      <th>3</th>\n",
              "      <td>4</td>\n",
              "      <td>0</td>\n",
              "      <td>25 කැල්ලහම්මෝ</td>\n",
              "    </tr>\n",
              "    <tr>\n",
              "      <th>4</th>\n",
              "      <td>5</td>\n",
              "      <td>1</td>\n",
              "      <td>25 කෙල්ල අයියලගෙ කාලද කොහෙද ඉන්නෙ</td>\n",
              "    </tr>\n",
              "  </tbody>\n",
              "</table>\n",
              "</div>\n",
              "    <div class=\"colab-df-buttons\">\n",
              "\n",
              "  <div class=\"colab-df-container\">\n",
              "    <button class=\"colab-df-convert\" onclick=\"convertToInteractive('df-ab405e8c-f73b-42fc-8248-be6aaebcf5cc')\"\n",
              "            title=\"Convert this dataframe to an interactive table.\"\n",
              "            style=\"display:none;\">\n",
              "\n",
              "  <svg xmlns=\"http://www.w3.org/2000/svg\" height=\"24px\" viewBox=\"0 -960 960 960\">\n",
              "    <path d=\"M120-120v-720h720v720H120Zm60-500h600v-160H180v160Zm220 220h160v-160H400v160Zm0 220h160v-160H400v160ZM180-400h160v-160H180v160Zm440 0h160v-160H620v160ZM180-180h160v-160H180v160Zm440 0h160v-160H620v160Z\"/>\n",
              "  </svg>\n",
              "    </button>\n",
              "\n",
              "  <style>\n",
              "    .colab-df-container {\n",
              "      display:flex;\n",
              "      gap: 12px;\n",
              "    }\n",
              "\n",
              "    .colab-df-convert {\n",
              "      background-color: #E8F0FE;\n",
              "      border: none;\n",
              "      border-radius: 50%;\n",
              "      cursor: pointer;\n",
              "      display: none;\n",
              "      fill: #1967D2;\n",
              "      height: 32px;\n",
              "      padding: 0 0 0 0;\n",
              "      width: 32px;\n",
              "    }\n",
              "\n",
              "    .colab-df-convert:hover {\n",
              "      background-color: #E2EBFA;\n",
              "      box-shadow: 0px 1px 2px rgba(60, 64, 67, 0.3), 0px 1px 3px 1px rgba(60, 64, 67, 0.15);\n",
              "      fill: #174EA6;\n",
              "    }\n",
              "\n",
              "    .colab-df-buttons div {\n",
              "      margin-bottom: 4px;\n",
              "    }\n",
              "\n",
              "    [theme=dark] .colab-df-convert {\n",
              "      background-color: #3B4455;\n",
              "      fill: #D2E3FC;\n",
              "    }\n",
              "\n",
              "    [theme=dark] .colab-df-convert:hover {\n",
              "      background-color: #434B5C;\n",
              "      box-shadow: 0px 1px 3px 1px rgba(0, 0, 0, 0.15);\n",
              "      filter: drop-shadow(0px 1px 2px rgba(0, 0, 0, 0.3));\n",
              "      fill: #FFFFFF;\n",
              "    }\n",
              "  </style>\n",
              "\n",
              "    <script>\n",
              "      const buttonEl =\n",
              "        document.querySelector('#df-ab405e8c-f73b-42fc-8248-be6aaebcf5cc button.colab-df-convert');\n",
              "      buttonEl.style.display =\n",
              "        google.colab.kernel.accessAllowed ? 'block' : 'none';\n",
              "\n",
              "      async function convertToInteractive(key) {\n",
              "        const element = document.querySelector('#df-ab405e8c-f73b-42fc-8248-be6aaebcf5cc');\n",
              "        const dataTable =\n",
              "          await google.colab.kernel.invokeFunction('convertToInteractive',\n",
              "                                                    [key], {});\n",
              "        if (!dataTable) return;\n",
              "\n",
              "        const docLinkHtml = 'Like what you see? Visit the ' +\n",
              "          '<a target=\"_blank\" href=https://colab.research.google.com/notebooks/data_table.ipynb>data table notebook</a>'\n",
              "          + ' to learn more about interactive tables.';\n",
              "        element.innerHTML = '';\n",
              "        dataTable['output_type'] = 'display_data';\n",
              "        await google.colab.output.renderOutput(dataTable, element);\n",
              "        const docLink = document.createElement('div');\n",
              "        docLink.innerHTML = docLinkHtml;\n",
              "        element.appendChild(docLink);\n",
              "      }\n",
              "    </script>\n",
              "  </div>\n",
              "\n",
              "\n",
              "    <div id=\"df-ba670661-500e-4dde-b870-d309df0015af\">\n",
              "      <button class=\"colab-df-quickchart\" onclick=\"quickchart('df-ba670661-500e-4dde-b870-d309df0015af')\"\n",
              "                title=\"Suggest charts\"\n",
              "                style=\"display:none;\">\n",
              "\n",
              "<svg xmlns=\"http://www.w3.org/2000/svg\" height=\"24px\"viewBox=\"0 0 24 24\"\n",
              "     width=\"24px\">\n",
              "    <g>\n",
              "        <path d=\"M19 3H5c-1.1 0-2 .9-2 2v14c0 1.1.9 2 2 2h14c1.1 0 2-.9 2-2V5c0-1.1-.9-2-2-2zM9 17H7v-7h2v7zm4 0h-2V7h2v10zm4 0h-2v-4h2v4z\"/>\n",
              "    </g>\n",
              "</svg>\n",
              "      </button>\n",
              "\n",
              "<style>\n",
              "  .colab-df-quickchart {\n",
              "      --bg-color: #E8F0FE;\n",
              "      --fill-color: #1967D2;\n",
              "      --hover-bg-color: #E2EBFA;\n",
              "      --hover-fill-color: #174EA6;\n",
              "      --disabled-fill-color: #AAA;\n",
              "      --disabled-bg-color: #DDD;\n",
              "  }\n",
              "\n",
              "  [theme=dark] .colab-df-quickchart {\n",
              "      --bg-color: #3B4455;\n",
              "      --fill-color: #D2E3FC;\n",
              "      --hover-bg-color: #434B5C;\n",
              "      --hover-fill-color: #FFFFFF;\n",
              "      --disabled-bg-color: #3B4455;\n",
              "      --disabled-fill-color: #666;\n",
              "  }\n",
              "\n",
              "  .colab-df-quickchart {\n",
              "    background-color: var(--bg-color);\n",
              "    border: none;\n",
              "    border-radius: 50%;\n",
              "    cursor: pointer;\n",
              "    display: none;\n",
              "    fill: var(--fill-color);\n",
              "    height: 32px;\n",
              "    padding: 0;\n",
              "    width: 32px;\n",
              "  }\n",
              "\n",
              "  .colab-df-quickchart:hover {\n",
              "    background-color: var(--hover-bg-color);\n",
              "    box-shadow: 0 1px 2px rgba(60, 64, 67, 0.3), 0 1px 3px 1px rgba(60, 64, 67, 0.15);\n",
              "    fill: var(--button-hover-fill-color);\n",
              "  }\n",
              "\n",
              "  .colab-df-quickchart-complete:disabled,\n",
              "  .colab-df-quickchart-complete:disabled:hover {\n",
              "    background-color: var(--disabled-bg-color);\n",
              "    fill: var(--disabled-fill-color);\n",
              "    box-shadow: none;\n",
              "  }\n",
              "\n",
              "  .colab-df-spinner {\n",
              "    border: 2px solid var(--fill-color);\n",
              "    border-color: transparent;\n",
              "    border-bottom-color: var(--fill-color);\n",
              "    animation:\n",
              "      spin 1s steps(1) infinite;\n",
              "  }\n",
              "\n",
              "  @keyframes spin {\n",
              "    0% {\n",
              "      border-color: transparent;\n",
              "      border-bottom-color: var(--fill-color);\n",
              "      border-left-color: var(--fill-color);\n",
              "    }\n",
              "    20% {\n",
              "      border-color: transparent;\n",
              "      border-left-color: var(--fill-color);\n",
              "      border-top-color: var(--fill-color);\n",
              "    }\n",
              "    30% {\n",
              "      border-color: transparent;\n",
              "      border-left-color: var(--fill-color);\n",
              "      border-top-color: var(--fill-color);\n",
              "      border-right-color: var(--fill-color);\n",
              "    }\n",
              "    40% {\n",
              "      border-color: transparent;\n",
              "      border-right-color: var(--fill-color);\n",
              "      border-top-color: var(--fill-color);\n",
              "    }\n",
              "    60% {\n",
              "      border-color: transparent;\n",
              "      border-right-color: var(--fill-color);\n",
              "    }\n",
              "    80% {\n",
              "      border-color: transparent;\n",
              "      border-right-color: var(--fill-color);\n",
              "      border-bottom-color: var(--fill-color);\n",
              "    }\n",
              "    90% {\n",
              "      border-color: transparent;\n",
              "      border-bottom-color: var(--fill-color);\n",
              "    }\n",
              "  }\n",
              "</style>\n",
              "\n",
              "      <script>\n",
              "        async function quickchart(key) {\n",
              "          const quickchartButtonEl =\n",
              "            document.querySelector('#' + key + ' button');\n",
              "          quickchartButtonEl.disabled = true;  // To prevent multiple clicks.\n",
              "          quickchartButtonEl.classList.add('colab-df-spinner');\n",
              "          try {\n",
              "            const charts = await google.colab.kernel.invokeFunction(\n",
              "                'suggestCharts', [key], {});\n",
              "          } catch (error) {\n",
              "            console.error('Error during call to suggestCharts:', error);\n",
              "          }\n",
              "          quickchartButtonEl.classList.remove('colab-df-spinner');\n",
              "          quickchartButtonEl.classList.add('colab-df-quickchart-complete');\n",
              "        }\n",
              "        (() => {\n",
              "          let quickchartButtonEl =\n",
              "            document.querySelector('#df-ba670661-500e-4dde-b870-d309df0015af button');\n",
              "          quickchartButtonEl.style.display =\n",
              "            google.colab.kernel.accessAllowed ? 'block' : 'none';\n",
              "        })();\n",
              "      </script>\n",
              "    </div>\n",
              "\n",
              "    </div>\n",
              "  </div>\n"
            ],
            "application/vnd.google.colaboratory.intrinsic+json": {
              "type": "dataframe",
              "variable_name": "df",
              "summary": "{\n  \"name\": \"df\",\n  \"rows\": 6345,\n  \"fields\": [\n    {\n      \"column\": \"id\",\n      \"properties\": {\n        \"dtype\": \"number\",\n        \"std\": 1831,\n        \"min\": 1,\n        \"max\": 6345,\n        \"num_unique_values\": 6345,\n        \"samples\": [\n          731,\n          4757,\n          5012\n        ],\n        \"semantic_type\": \"\",\n        \"description\": \"\"\n      }\n    },\n    {\n      \"column\": \"label\",\n      \"properties\": {\n        \"dtype\": \"number\",\n        \"std\": 0,\n        \"min\": 0,\n        \"max\": 1,\n        \"num_unique_values\": 2,\n        \"samples\": [\n          1,\n          0\n        ],\n        \"semantic_type\": \"\",\n        \"description\": \"\"\n      }\n    },\n    {\n      \"column\": \"text\",\n      \"properties\": {\n        \"dtype\": \"string\",\n        \"num_unique_values\": 6279,\n        \"samples\": [\n          \"\\u0db8\\u0db1\\u0dd4\\u0dc3\\u0dca\\u0dc3\\u0dba\\u0dd9\\u0d9a\\u0dca\\u0da7 \\u0dad\\u0db8\\u0dcf\\u0d9c\\u0dda\\u0db8 \\u0dc0\\u0dbb\\u0dca\\u0dae\\u0db8\\u0dcf\\u0db1\\u0dba\\u0dad\\u0dca \\u0d91\\u0d9a\\u0dca\\u0d9a \\u0d9a\\u0dad\\u0dcf \\u0d9a\\u0dbb\\u0db1\\u0dca\\u0db1 \\u0dbd\\u0dd0\\u0db6\\u0dd9\\u0db1 \\u0daf\\u0dd4\\u0dbd\\u0db6 \\u0d85\\u0dc0\\u0dc3\\u0dca\\u0dae\\u0dcf\\u0dc0\\u0d9a\\u0dca\",\n          \"\\u0db8\\u0ddd\\u0da9 \\u0dc4\\u0dd4\\u0dad\\u0dca\\u0dad\\u0dd2\\u0dba\\u0dd9\\u0d9a\\u0dca \\u0dc4\\u0dba\\u0dc0\\u0dd9\\u0db1\\u0dd2 \\u0dbd\\u0db8\\u0dba\\u0dad\\u0dca \\u0dc4\\u0daf\\u0dcf\\u0d9c\\u0dd2\\u0dba \\u0d94\\u0dba \\u0db8\\u0daf\\u0dd2 \\u0d9c\\u0ddc\\u0db1\\u0dca \\u0dc4\\u0dd4\\u0d9a\\u0db1\\u0dca\\u0db1\\u0dd2\"\n        ],\n        \"semantic_type\": \"\",\n        \"description\": \"\"\n      }\n    }\n  ]\n}"
            }
          },
          "metadata": {},
          "execution_count": 6
        }
      ]
    },
    {
      "cell_type": "markdown",
      "source": [
        "Prepare your dataset"
      ],
      "metadata": {
        "id": "sjzpebrjs5fF"
      }
    },
    {
      "cell_type": "code",
      "source": [
        "texts = df['text'].tolist()\n",
        "labels = df['label'].tolist()\n",
        "\n",
        "# Split the data\n",
        "X_train, X_temp, y_train, y_temp = train_test_split(\n",
        "    texts, labels, test_size=0.3, random_state=42, stratify=labels\n",
        ")\n",
        "\n",
        "X_val, X_test, y_val, y_test = train_test_split(\n",
        "    X_temp, y_temp, test_size=0.5, random_state=42, stratify=y_temp\n",
        ")\n",
        "\n",
        "print(f\"Training set size: {len(X_train)}\")\n",
        "print(f\"Validation set size: {len(X_val)}\")\n",
        "print(f\"Test set size: {len(X_test)}\")"
      ],
      "metadata": {
        "colab": {
          "base_uri": "https://localhost:8080/"
        },
        "id": "fDjv5ZIXR7Lm",
        "outputId": "1fac6ece-e6d4-40e1-f715-a3a466d99956"
      },
      "execution_count": 7,
      "outputs": [
        {
          "output_type": "stream",
          "name": "stdout",
          "text": [
            "Training set size: 4441\n",
            "Validation set size: 952\n",
            "Test set size: 952\n"
          ]
        }
      ]
    },
    {
      "cell_type": "code",
      "source": [
        "# def prepare_data_enhanced(df, test_size=0.2, val_size=0.2, random_state=42):\n",
        "#     \"\"\"Enhanced data preparation with proper stratification\"\"\"\n",
        "#     texts = df['text'].tolist()\n",
        "#     labels = df['label'].tolist()\n",
        "\n",
        "#     # First split: train + val vs test\n",
        "#     X_temp, X_test, y_temp, y_test = train_test_split(\n",
        "#         texts, labels, test_size=test_size, random_state=random_state, stratify=labels\n",
        "#     )\n",
        "\n",
        "#     # Second split: train vs val\n",
        "#     val_size_adjusted = val_size / (1 - test_size)\n",
        "#     X_train, X_val, y_train, y_val = train_test_split(\n",
        "#         X_temp, y_temp, test_size=val_size_adjusted, random_state=random_state, stratify=y_temp\n",
        "#     )\n",
        "\n",
        "#     print(f\"Training set size: {len(X_train)}\")\n",
        "#     print(f\"Validation set size: {len(X_val)}\")\n",
        "#     print(f\"Test set size: {len(X_test)}\")\n",
        "\n",
        "#     # Check label distribution in each split\n",
        "#     print(f\"\\nTraining set label distribution:\")\n",
        "#     print(pd.Series(y_train).value_counts(normalize=True))\n",
        "#     print(f\"\\nValidation set label distribution:\")\n",
        "#     print(pd.Series(y_val).value_counts(normalize=True))\n",
        "#     print(f\"\\nTest set label distribution:\")\n",
        "#     print(pd.Series(y_test).value_counts(normalize=True))\n",
        "\n",
        "#     return X_train, X_val, X_test, y_train, y_val, y_test\n",
        "\n",
        "# X_train, X_val, X_test, y_train, y_val, y_test = prepare_data_enhanced(df)\n",
        "\n",
        "\n"
      ],
      "metadata": {
        "id": "UAk_Pe0Ks3x8"
      },
      "execution_count": 8,
      "outputs": []
    },
    {
      "cell_type": "code",
      "source": [
        "model_name = \"xlm-roberta-large\"\n",
        "\n",
        "tokenizer = AutoTokenizer.from_pretrained(model_name)\n",
        "print(f\"Tokenizer loaded. Vocab size: {len(tokenizer)}\")"
      ],
      "metadata": {
        "colab": {
          "base_uri": "https://localhost:8080/"
        },
        "id": "k8Vc7Up_u3Gx",
        "outputId": "17112931-12c2-4dae-c442-c5f3b1ca343e"
      },
      "execution_count": 9,
      "outputs": [
        {
          "output_type": "stream",
          "name": "stdout",
          "text": [
            "Tokenizer loaded. Vocab size: 250002\n"
          ]
        }
      ]
    },
    {
      "cell_type": "markdown",
      "source": [
        "Using data augmentation to enhance the data"
      ],
      "metadata": {
        "id": "oJDpIIAzyzF7"
      }
    },
    {
      "cell_type": "code",
      "source": [
        "sample_text = \"25 ක් වගේ ???ඉතින් වැලලියන්\"\n",
        "tokens = tokenizer(sample_text, return_tensors='pt', padding=True, truncation=True, add_special_tokens=True)\n",
        "print(f\"Sample text: {sample_text}\")\n",
        "print(f\"Tokenized: {tokenizer.convert_ids_to_tokens(tokens['input_ids'][0])}\")\n",
        "\n",
        "print(tokens['input_ids'])"
      ],
      "metadata": {
        "colab": {
          "base_uri": "https://localhost:8080/"
        },
        "id": "a3WwGrRqrjRw",
        "outputId": "808b24a3-caf2-4cc2-9c35-56a74a03462b"
      },
      "execution_count": 10,
      "outputs": [
        {
          "output_type": "stream",
          "name": "stdout",
          "text": [
            "Sample text: 25 ක් වගේ ???ඉතින් වැලලියන්\n",
            "Tokenized: ['<s>', '▁25', '▁ක්', '▁වගේ', '▁???', 'ඉ', 'තින්', '▁වැල', 'ලි', 'යන්', '</s>']\n",
            "tensor([[     0,    714,   4085,  10407,  37336,  69014, 115678, 192147,   6513,\n",
            "          10137,      2]])\n"
          ]
        }
      ]
    },
    {
      "cell_type": "code",
      "source": [
        "texts = df['text'].tolist()\n",
        "lengths = [len(tokenizer.encode(text, add_special_tokens=True)) for text in texts]\n",
        "\n",
        "print(\"Max length:\", max(lengths))\n",
        "print(\"Average length:\", np.mean(lengths))\n",
        "print(\"95th percentile:\", np.percentile(lengths, 95))\n"
      ],
      "metadata": {
        "colab": {
          "base_uri": "https://localhost:8080/"
        },
        "id": "ptc9b4HOkBlW",
        "outputId": "97e60070-3598-48b5-8a62-9b3c560f5930"
      },
      "execution_count": 11,
      "outputs": [
        {
          "output_type": "stream",
          "name": "stdout",
          "text": [
            "Max length: 331\n",
            "Average length: 26.24381402679275\n",
            "95th percentile: 82.79999999999927\n"
          ]
        }
      ]
    },
    {
      "cell_type": "code",
      "source": [
        "def analyze_tokenization(texts, tokenizer, max_samples=1000):\n",
        "    \"\"\"Analyze tokenization to determine optimal max_length\"\"\"\n",
        "    sample_texts = texts[:max_samples] if len(texts) > max_samples else texts\n",
        "\n",
        "    token_lengths = []\n",
        "    for text in sample_texts:\n",
        "        tokens = tokenizer(text, truncation=False, padding=False)\n",
        "        token_lengths.append(len(tokens['input_ids']))\n",
        "\n",
        "    token_lengths = np.array(token_lengths)\n",
        "\n",
        "    print(f\"Token length statistics:\")\n",
        "    print(f\"Mean: {token_lengths.mean():.2f}\")\n",
        "    print(f\"Median: {np.median(token_lengths):.2f}\")\n",
        "    print(f\"95th percentile: {np.percentile(token_lengths, 95):.2f}\")\n",
        "    print(f\"99th percentile: {np.percentile(token_lengths, 99):.2f}\")\n",
        "    print(f\"Max: {token_lengths.max()}\")\n",
        "\n",
        "    # Plot distribution\n",
        "    plt.figure(figsize=(10, 6))\n",
        "    plt.hist(token_lengths, bins=50, alpha=0.7, edgecolor='black')\n",
        "    plt.axvline(token_lengths.mean(), color='red', linestyle='--', label=f'Mean: {token_lengths.mean():.1f}')\n",
        "    plt.axvline(np.percentile(token_lengths, 95), color='orange', linestyle='--', label=f'95th percentile: {np.percentile(token_lengths, 95):.1f}')\n",
        "    plt.xlabel('Token Length')\n",
        "    plt.ylabel('Frequency')\n",
        "    plt.title('Token Length Distribution')\n",
        "    plt.legend()\n",
        "    plt.show()\n",
        "\n",
        "    # Recommend max_length\n",
        "    recommended_length = min(int(np.percentile(token_lengths, 95)), 512)\n",
        "    print(f\"\\nRecommended max_length: {recommended_length}\")\n",
        "    return recommended_length\n",
        "\n",
        "# Analyze tokenization\n",
        "MAX_LENGTH = analyze_tokenization(X_train, tokenizer)"
      ],
      "metadata": {
        "colab": {
          "base_uri": "https://localhost:8080/",
          "height": 560
        },
        "id": "8oEt_AGcQyIH",
        "outputId": "cb87fc3a-8aeb-4c1d-cf84-111dca431511"
      },
      "execution_count": 12,
      "outputs": [
        {
          "output_type": "stream",
          "name": "stdout",
          "text": [
            "Token length statistics:\n",
            "Mean: 27.64\n",
            "Median: 17.00\n",
            "95th percentile: 86.00\n",
            "99th percentile: 177.02\n",
            "Max: 320\n"
          ]
        },
        {
          "output_type": "display_data",
          "data": {
            "text/plain": [
              "<Figure size 1000x600 with 1 Axes>"
            ],
            "image/png": "[encoded data removed]"
          },
          "metadata": {}
        },
        {
          "output_type": "stream",
          "name": "stdout",
          "text": [
            "\n",
            "Recommended max_length: 86\n"
          ]
        }
      ]
    },
    {
      "cell_type": "code",
      "source": [
        "class SinhalaDataset(Dataset):\n",
        "    def __init__(self, texts, labels, tokenizer, max_length, augment= False):\n",
        "        self.texts = texts\n",
        "        self.labels = labels\n",
        "        self.tokenizer = tokenizer\n",
        "        self.max_length = max_length\n",
        "        self.augment = augment\n",
        "\n",
        "    def __len__(self):\n",
        "        return len(self.texts)\n",
        "\n",
        "    def __getitem__(self, idx):\n",
        "        text = str(self.texts[idx])\n",
        "        label = self.labels[idx]\n",
        "\n",
        "        #Simple augmentation fo the training\n",
        "        if self.augment and np.random.random() < 0.1:\n",
        "          words = text.split()\n",
        "          if len(words) > 1:\n",
        "            mask_idx = np.random.randint(0, len(words))\n",
        "            words[mask_idx] = '[MASK]'\n",
        "            text = ' '.join(words)\n",
        "\n",
        "        encoding = self.tokenizer(\n",
        "            text,\n",
        "\n",
        "            max_length=self.max_length,\n",
        "            padding='max_length',\n",
        "            truncation=True,\n",
        "            return_tensors='pt'\n",
        "        )\n",
        "\n",
        "        return {\n",
        "            'input_ids': encoding['input_ids'].flatten(),\n",
        "            'attention_mask': encoding['attention_mask'].flatten(),\n",
        "            'labels': torch.tensor(label, dtype=torch.long)\n",
        "        }\n"
      ],
      "metadata": {
        "id": "LlE8g8sHuOdv"
      },
      "execution_count": 13,
      "outputs": []
    },
    {
      "cell_type": "code",
      "source": [
        "\n"
      ],
      "metadata": {
        "id": "7vcS19_Lwhg0"
      },
      "execution_count": 13,
      "outputs": []
    },
    {
      "cell_type": "code",
      "source": [
        "train_dataset = SinhalaDataset(X_train, y_train, tokenizer, MAX_LENGTH)\n",
        "val_dataset = SinhalaDataset(X_val, y_val, tokenizer, MAX_LENGTH)\n",
        "test_dataset = SinhalaDataset(X_test, y_test, tokenizer, MAX_LENGTH)\n",
        "\n"
      ],
      "metadata": {
        "id": "1rPsp36PPQ2V"
      },
      "execution_count": 14,
      "outputs": []
    },
    {
      "cell_type": "code",
      "source": [
        "num_labels = len(set(labels))\n",
        "print(num_labels)"
      ],
      "metadata": {
        "colab": {
          "base_uri": "https://localhost:8080/"
        },
        "id": "ntXwhWPQ446k",
        "outputId": "a56fcd28-261b-43e7-c76d-89898245038b"
      },
      "execution_count": 15,
      "outputs": [
        {
          "output_type": "stream",
          "name": "stdout",
          "text": [
            "2\n"
          ]
        }
      ]
    },
    {
      "cell_type": "markdown",
      "source": [
        "Load the model"
      ],
      "metadata": {
        "id": "BfVheTu371pv"
      }
    },
    {
      "cell_type": "code",
      "source": [
        " model = AutoModelForSequenceClassification.from_pretrained(model_name, num_labels=2, problem_type=\"single_label_classification\")\n",
        " model.to(device)\n",
        "\n"
      ],
      "metadata": {
        "colab": {
          "base_uri": "https://localhost:8080/"
        },
        "id": "HkitTdBz7xvl",
        "outputId": "8ce7d63d-12b4-4a5a-d445-a0b97031e34b"
      },
      "execution_count": 16,
      "outputs": [
        {
          "output_type": "stream",
          "name": "stderr",
          "text": [
            "Some weights of XLMRobertaForSequenceClassification were not initialized from the model checkpoint at xlm-roberta-large and are newly initialized: ['classifier.dense.bias', 'classifier.dense.weight', 'classifier.out_proj.bias', 'classifier.out_proj.weight']\n",
            "You should probably TRAIN this model on a down-stream task to be able to use it for predictions and inference.\n"
          ]
        },
        {
          "output_type": "execute_result",
          "data": {
            "text/plain": [
              "XLMRobertaForSequenceClassification(\n",
              "  (roberta): XLMRobertaModel(\n",
              "    (embeddings): XLMRobertaEmbeddings(\n",
              "      (word_embeddings): Embedding(250002, 1024, padding_idx=1)\n",
              "      (position_embeddings): Embedding(514, 1024, padding_idx=1)\n",
              "      (token_type_embeddings): Embedding(1, 1024)\n",
              "      (LayerNorm): LayerNorm((1024,), eps=1e-05, elementwise_affine=True)\n",
              "      (dropout): Dropout(p=0.1, inplace=False)\n",
              "    )\n",
              "    (encoder): XLMRobertaEncoder(\n",
              "      (layer): ModuleList(\n",
              "        (0-23): 24 x XLMRobertaLayer(\n",
              "          (attention): XLMRobertaAttention(\n",
              "            (self): XLMRobertaSdpaSelfAttention(\n",
              "              (query): Linear(in_features=1024, out_features=1024, bias=True)\n",
              "              (key): Linear(in_features=1024, out_features=1024, bias=True)\n",
              "              (value): Linear(in_features=1024, out_features=1024, bias=True)\n",
              "              (dropout): Dropout(p=0.1, inplace=False)\n",
              "            )\n",
              "            (output): XLMRobertaSelfOutput(\n",
              "              (dense): Linear(in_features=1024, out_features=1024, bias=True)\n",
              "              (LayerNorm): LayerNorm((1024,), eps=1e-05, elementwise_affine=True)\n",
              "              (dropout): Dropout(p=0.1, inplace=False)\n",
              "            )\n",
              "          )\n",
              "          (intermediate): XLMRobertaIntermediate(\n",
              "            (dense): Linear(in_features=1024, out_features=4096, bias=True)\n",
              "            (intermediate_act_fn): GELUActivation()\n",
              "          )\n",
              "          (output): XLMRobertaOutput(\n",
              "            (dense): Linear(in_features=4096, out_features=1024, bias=True)\n",
              "            (LayerNorm): LayerNorm((1024,), eps=1e-05, elementwise_affine=True)\n",
              "            (dropout): Dropout(p=0.1, inplace=False)\n",
              "          )\n",
              "        )\n",
              "      )\n",
              "    )\n",
              "  )\n",
              "  (classifier): XLMRobertaClassificationHead(\n",
              "    (dense): Linear(in_features=1024, out_features=1024, bias=True)\n",
              "    (dropout): Dropout(p=0.1, inplace=False)\n",
              "    (out_proj): Linear(in_features=1024, out_features=2, bias=True)\n",
              "  )\n",
              ")"
            ]
          },
          "metadata": {},
          "execution_count": 16
        }
      ]
    },
    {
      "cell_type": "code",
      "source": [
        "def compute_metrics(eval_pred):\n",
        "    predictions, labels = eval_pred\n",
        "    predictions = np.argmax(predictions, axis=1)\n",
        "\n",
        "    precision, recall, f1, _ = precision_recall_fscore_support(labels, predictions, average='weighted')\n",
        "    acc = accuracy_score(labels, predictions)\n",
        "\n",
        "    return {\n",
        "        'accuracy': acc,\n",
        "        'f1': f1,\n",
        "        'precision': precision,\n",
        "        'recall': recall\n",
        "    }"
      ],
      "metadata": {
        "id": "sxGIDW3n8p0h"
      },
      "execution_count": 17,
      "outputs": []
    },
    {
      "cell_type": "code",
      "source": [
        "!pip install -U transformers datasets evaluate\n"
      ],
      "metadata": {
        "colab": {
          "base_uri": "https://localhost:8080/"
        },
        "id": "gX7e83QRVQh_",
        "outputId": "1f5586f1-78a9-497a-c084-45158e0e6fe1"
      },
      "execution_count": 18,
      "outputs": [
        {
          "output_type": "stream",
          "name": "stdout",
          "text": [
            "Requirement already satisfied: transformers in /usr/local/lib/python3.11/dist-packages (4.53.1)\n",
            "Requirement already satisfied: datasets in /usr/local/lib/python3.11/dist-packages (3.6.0)\n",
            "Requirement already satisfied: evaluate in /usr/local/lib/python3.11/dist-packages (0.4.4)\n",
            "Requirement already satisfied: filelock in /usr/local/lib/python3.11/dist-packages (from transformers) (3.18.0)\n",
            "Requirement already satisfied: huggingface-hub<1.0,>=0.30.0 in /usr/local/lib/python3.11/dist-packages (from transformers) (0.33.1)\n",
            "Requirement already satisfied: numpy>=1.17 in /usr/local/lib/python3.11/dist-packages (from transformers) (2.0.2)\n",
            "Requirement already satisfied: packaging>=20.0 in /usr/local/lib/python3.11/dist-packages (from transformers) (24.2)\n",
            "Requirement already satisfied: pyyaml>=5.1 in /usr/local/lib/python3.11/dist-packages (from transformers) (6.0.2)\n",
            "Requirement already satisfied: regex!=2019.12.17 in /usr/local/lib/python3.11/dist-packages (from transformers) (2024.11.6)\n",
            "Requirement already satisfied: requests in /usr/local/lib/python3.11/dist-packages (from transformers) (2.32.3)\n",
            "Requirement already satisfied: tokenizers<0.22,>=0.21 in /usr/local/lib/python3.11/dist-packages (from transformers) (0.21.2)\n",
            "Requirement already satisfied: safetensors>=0.4.3 in /usr/local/lib/python3.11/dist-packages (from transformers) (0.5.3)\n",
            "Requirement already satisfied: tqdm>=4.27 in /usr/local/lib/python3.11/dist-packages (from transformers) (4.67.1)\n",
            "Requirement already satisfied: pyarrow>=15.0.0 in /usr/local/lib/python3.11/dist-packages (from datasets) (18.1.0)\n",
            "Requirement already satisfied: dill<0.3.9,>=0.3.0 in /usr/local/lib/python3.11/dist-packages (from datasets) (0.3.7)\n",
            "Requirement already satisfied: pandas in /usr/local/lib/python3.11/dist-packages (from datasets) (2.2.2)\n",
            "Requirement already satisfied: xxhash in /usr/local/lib/python3.11/dist-packages (from datasets) (3.5.0)\n",
            "Requirement already satisfied: multiprocess<0.70.17 in /usr/local/lib/python3.11/dist-packages (from datasets) (0.70.15)\n",
            "Requirement already satisfied: fsspec<=2025.3.0,>=2023.1.0 in /usr/local/lib/python3.11/dist-packages (from fsspec[http]<=2025.3.0,>=2023.1.0->datasets) (2025.3.0)\n",
            "Requirement already satisfied: aiohttp!=4.0.0a0,!=4.0.0a1 in /usr/local/lib/python3.11/dist-packages (from fsspec[http]<=2025.3.0,>=2023.1.0->datasets) (3.11.15)\n",
            "Requirement already satisfied: typing-extensions>=3.7.4.3 in /usr/local/lib/python3.11/dist-packages (from huggingface-hub<1.0,>=0.30.0->transformers) (4.14.0)\n",
            "Requirement already satisfied: hf-xet<2.0.0,>=1.1.2 in /usr/local/lib/python3.11/dist-packages (from huggingface-hub<1.0,>=0.30.0->transformers) (1.1.5)\n",
            "Requirement already satisfied: charset-normalizer<4,>=2 in /usr/local/lib/python3.11/dist-packages (from requests->transformers) (3.4.2)\n",
            "Requirement already satisfied: idna<4,>=2.5 in /usr/local/lib/python3.11/dist-packages (from requests->transformers) (3.10)\n",
            "Requirement already satisfied: urllib3<3,>=1.21.1 in /usr/local/lib/python3.11/dist-packages (from requests->transformers) (2.4.0)\n",
            "Requirement already satisfied: certifi>=2017.4.17 in /usr/local/lib/python3.11/dist-packages (from requests->transformers) (2025.6.15)\n",
            "Requirement already satisfied: python-dateutil>=2.8.2 in /usr/local/lib/python3.11/dist-packages (from pandas->datasets) (2.9.0.post0)\n",
            "Requirement already satisfied: pytz>=2020.1 in /usr/local/lib/python3.11/dist-packages (from pandas->datasets) (2025.2)\n",
            "Requirement already satisfied: tzdata>=2022.7 in /usr/local/lib/python3.11/dist-packages (from pandas->datasets) (2025.2)\n",
            "Requirement already satisfied: aiohappyeyeballs>=2.3.0 in /usr/local/lib/python3.11/dist-packages (from aiohttp!=4.0.0a0,!=4.0.0a1->fsspec[http]<=2025.3.0,>=2023.1.0->datasets) (2.6.1)\n",
            "Requirement already satisfied: aiosignal>=1.1.2 in /usr/local/lib/python3.11/dist-packages (from aiohttp!=4.0.0a0,!=4.0.0a1->fsspec[http]<=2025.3.0,>=2023.1.0->datasets) (1.3.2)\n",
            "Requirement already satisfied: attrs>=17.3.0 in /usr/local/lib/python3.11/dist-packages (from aiohttp!=4.0.0a0,!=4.0.0a1->fsspec[http]<=2025.3.0,>=2023.1.0->datasets) (25.3.0)\n",
            "Requirement already satisfied: frozenlist>=1.1.1 in /usr/local/lib/python3.11/dist-packages (from aiohttp!=4.0.0a0,!=4.0.0a1->fsspec[http]<=2025.3.0,>=2023.1.0->datasets) (1.7.0)\n",
            "Requirement already satisfied: multidict<7.0,>=4.5 in /usr/local/lib/python3.11/dist-packages (from aiohttp!=4.0.0a0,!=4.0.0a1->fsspec[http]<=2025.3.0,>=2023.1.0->datasets) (6.6.3)\n",
            "Requirement already satisfied: propcache>=0.2.0 in /usr/local/lib/python3.11/dist-packages (from aiohttp!=4.0.0a0,!=4.0.0a1->fsspec[http]<=2025.3.0,>=2023.1.0->datasets) (0.3.2)\n",
            "Requirement already satisfied: yarl<2.0,>=1.17.0 in /usr/local/lib/python3.11/dist-packages (from aiohttp!=4.0.0a0,!=4.0.0a1->fsspec[http]<=2025.3.0,>=2023.1.0->datasets) (1.20.1)\n",
            "Requirement already satisfied: six>=1.5 in /usr/local/lib/python3.11/dist-packages (from python-dateutil>=2.8.2->pandas->datasets) (1.17.0)\n"
          ]
        }
      ]
    },
    {
      "cell_type": "code",
      "source": [
        "training_args = TrainingArguments(\n",
        "    output_dir='./model',\n",
        "    num_train_epochs=3,  # Start with 3, increase if needed\n",
        "    per_device_train_batch_size=32,  # Adjust based on GPU memory\n",
        "    per_device_eval_batch_size=32,\n",
        "    warmup_steps=100,\n",
        "    weight_decay=0.01,\n",
        "    logging_dir='./logs',\n",
        "    logging_steps=10,\n",
        "    eval_strategy=\"steps\",\n",
        "    eval_steps=100,\n",
        "    save_strategy=\"steps\",\n",
        "    save_steps=100,\n",
        "    load_best_model_at_end=True,\n",
        "    metric_for_best_model=\"f1\",\n",
        "    greater_is_better=True,\n",
        "    save_total_limit=2,\n",
        "    seed=42,\n",
        "    fp16=True,  # Use mixed precision for faster training\n",
        "    dataloader_num_workers=4,\n",
        "    gradient_accumulation_steps=2,  # Effective batch size = 16 * 2 = 32\n",
        "    learning_rate=2e-5,\n",
        "    lr_scheduler_type=\"cosine\",\n",
        "    report_to=None,  # Set to \"wandb\" if you want to use Weights & Biases\n",
        ")"
      ],
      "metadata": {
        "id": "xNGaLOlDeR9g"
      },
      "execution_count": 28,
      "outputs": []
    },
    {
      "cell_type": "code",
      "source": [
        "trainer = Trainer(\n",
        "    model=model,\n",
        "    args=training_args,\n",
        "    train_dataset=train_dataset,\n",
        "    eval_dataset=val_dataset,\n",
        "    tokenizer=tokenizer,\n",
        "    compute_metrics=compute_metrics,\n",
        "    callbacks=[EarlyStoppingCallback(early_stopping_patience=3)]\n",
        ")"
      ],
      "metadata": {
        "id": "DdB0kqPHVspw"
      },
      "execution_count": 31,
      "outputs": []
    },
    {
      "cell_type": "code",
      "source": [
        "print(\"Training Started ...\")\n",
        "trainer.train()"
      ],
      "metadata": {
        "colab": {
          "base_uri": "https://localhost:8080/",
          "height": 225
        },
        "id": "TvEyYmxjWVpt",
        "outputId": "738b3272-addf-4526-81e3-edb6784b69e8"
      },
      "execution_count": 32,
      "outputs": [
        {
          "output_type": "stream",
          "name": "stdout",
          "text": [
            "Training Started ...\n"
          ]
        },
        {
          "output_type": "display_data",
          "data": {
            "text/plain": [
              "<IPython.core.display.HTML object>"
            ],
            "text/html": [
              "\n",
              "    <div>\n",
              "      \n",
              "      <progress value='210' max='210' style='width:300px; height:20px; vertical-align: middle;'></progress>\n",
              "      [210/210 01:46, Epoch 3/3]\n",
              "    </div>\n",
              "    <table border=\"1\" class=\"dataframe\">\n",
              "  <thead>\n",
              " <tr style=\"text-align: left;\">\n",
              "      <th>Step</th>\n",
              "      <th>Training Loss</th>\n",
              "      <th>Validation Loss</th>\n",
              "      <th>Accuracy</th>\n",
              "      <th>F1</th>\n",
              "      <th>Precision</th>\n",
              "      <th>Recall</th>\n",
              "    </tr>\n",
              "  </thead>\n",
              "  <tbody>\n",
              "    <tr>\n",
              "      <td>100</td>\n",
              "      <td>0.140600</td>\n",
              "      <td>0.440528</td>\n",
              "      <td>0.865546</td>\n",
              "      <td>0.865742</td>\n",
              "      <td>0.874278</td>\n",
              "      <td>0.865546</td>\n",
              "    </tr>\n",
              "    <tr>\n",
              "      <td>200</td>\n",
              "      <td>0.139800</td>\n",
              "      <td>0.296537</td>\n",
              "      <td>0.894958</td>\n",
              "      <td>0.894996</td>\n",
              "      <td>0.895066</td>\n",
              "      <td>0.894958</td>\n",
              "    </tr>\n",
              "  </tbody>\n",
              "</table><p>"
            ]
          },
          "metadata": {}
        },
        {
          "output_type": "execute_result",
          "data": {
            "text/plain": [
              "TrainOutput(global_step=210, training_loss=0.1725461131050473, metrics={'train_runtime': 106.5695, 'train_samples_per_second': 125.017, 'train_steps_per_second': 1.971, 'total_flos': 2085520417209432.0, 'train_loss': 0.1725461131050473, 'epoch': 3.0})"
            ]
          },
          "metadata": {},
          "execution_count": 32
        }
      ]
    },
    {
      "cell_type": "code",
      "source": [
        "model.save_pretrained('./fine_tuned_sinhala_model')\n",
        "tokenizer.save_pretrained('./fine_tuned_sinhala_model')\n",
        "print(\"Model saved successfully!\")"
      ],
      "metadata": {
        "colab": {
          "base_uri": "https://localhost:8080/"
        },
        "id": "l4-xk8hKZ-Ko",
        "outputId": "4a0a2a51-1132-4161-95b3-151fb0b1a688"
      },
      "execution_count": 33,
      "outputs": [
        {
          "output_type": "stream",
          "name": "stdout",
          "text": [
            "Model saved successfully!\n"
          ]
        }
      ]
    },
    {
      "cell_type": "code",
      "source": [
        "print(\"Evaluating on test set...\")\n",
        "test_results = trainer.evaluate(test_dataset)\n",
        "print(\"Test Results:\")\n",
        "for key, value in test_results.items():\n",
        "    print(f\"{key}: {value:.4f}\")"
      ],
      "metadata": {
        "colab": {
          "base_uri": "https://localhost:8080/",
          "height": 228
        },
        "id": "u18YxmOiaqW1",
        "outputId": "c400bd67-5feb-42f6-a7b6-486b757eba27"
      },
      "execution_count": 35,
      "outputs": [
        {
          "output_type": "stream",
          "name": "stdout",
          "text": [
            "Evaluating on test set...\n"
          ]
        },
        {
          "output_type": "display_data",
          "data": {
            "text/plain": [
              "<IPython.core.display.HTML object>"
            ],
            "text/html": [
              "\n",
              "    <div>\n",
              "      \n",
              "      <progress value='30' max='30' style='width:300px; height:20px; vertical-align: middle;'></progress>\n",
              "      [30/30 00:01]\n",
              "    </div>\n",
              "    "
            ]
          },
          "metadata": {}
        },
        {
          "output_type": "stream",
          "name": "stdout",
          "text": [
            "Test Results:\n",
            "eval_loss: 0.3032\n",
            "eval_accuracy: 0.8960\n",
            "eval_f1: 0.8960\n",
            "eval_precision: 0.8961\n",
            "eval_recall: 0.8960\n",
            "eval_runtime: 1.4237\n",
            "eval_samples_per_second: 668.6730\n",
            "eval_steps_per_second: 21.0720\n",
            "epoch: 3.0000\n"
          ]
        }
      ]
    },
    {
      "cell_type": "code",
      "source": [
        "predictions = trainer.predict(test_dataset)\n",
        "y_pred = np.argmax(predictions.predictions, axis=1)\n",
        "y_true = y_test\n",
        "\n",
        "# Confusion matrix\n",
        "cm = confusion_matrix(y_true, y_pred)\n",
        "plt.figure(figsize=(8, 6))\n",
        "sns.heatmap(cm, annot=True, fmt='d', cmap='Blues')\n",
        "plt.title('Confusion Matrix')\n",
        "plt.ylabel('True Label')\n",
        "plt.xlabel('Predicted Label')\n",
        "plt.show()\n",
        "\n",
        "# Classification report\n",
        "from sklearn.metrics import classification_report\n",
        "print(\"\\nClassification Report:\")\n",
        "print(classification_report(y_true, y_pred))\n"
      ],
      "metadata": {
        "colab": {
          "base_uri": "https://localhost:8080/",
          "height": 737
        },
        "id": "48GWSnlQa9AZ",
        "outputId": "22c5783b-f221-49eb-d39a-4fa7ac142ca8"
      },
      "execution_count": 36,
      "outputs": [
        {
          "output_type": "display_data",
          "data": {
            "text/plain": [
              "<IPython.core.display.HTML object>"
            ],
            "text/html": []
          },
          "metadata": {}
        },
        {
          "output_type": "display_data",
          "data": {
            "text/plain": [
              "<Figure size 800x600 with 2 Axes>"
            ],
            "image/png": "[encoded data removed]"
          },
          "metadata": {}
        },
        {
          "output_type": "stream",
          "name": "stdout",
          "text": [
            "\n",
            "Classification Report:\n",
            "              precision    recall  f1-score   support\n",
            "\n",
            "           0       0.88      0.89      0.89       434\n",
            "           1       0.91      0.90      0.90       518\n",
            "\n",
            "    accuracy                           0.90       952\n",
            "   macro avg       0.90      0.90      0.90       952\n",
            "weighted avg       0.90      0.90      0.90       952\n",
            "\n"
          ]
        }
      ]
    },
    {
      "cell_type": "code",
      "source": [
        "print(df[:10])"
      ],
      "metadata": {
        "colab": {
          "base_uri": "https://localhost:8080/"
        },
        "id": "m2or_zH0ba0E",
        "outputId": "212adf1b-a4f8-415a-8802-f00459496c25"
      },
      "execution_count": 39,
      "outputs": [
        {
          "output_type": "stream",
          "name": "stdout",
          "text": [
            "   id  label                                               text\n",
            "0   1      0                        හුදෙකලා එකේ ද ඇහෙනවද කාටහරි\n",
            "1   2      0                               18ක පෙනුමක් තියෙන්නේ\n",
            "2   3      0   2020 එනවා කිව්නාට මෙහෙම එයි කියලා හිතුවේ නෑ පට්ට\n",
            "3   4      0                                      25 කැල්ලහම්මෝ\n",
            "4   5      1                  25 කෙල්ල අයියලගෙ කාලද කොහෙද ඉන්නෙ\n",
            "5   6      1                        25 ක් වගේ ???ඉතින් වැලලියන්\n",
            "6   7      0              25 ලුක් එක දැකල ඔලුව සවුත්තු උන තරිදු\n",
            "7   8      0       25ක පෙනුමක් කියපු කෑල්ලේ ඉදන් බලන එක නතර කලා\n",
            "8   9      0  33ක් ගුවන්තොටුපළවල ලෝකයේ හිරවෙලා ඉන්නවා ඩුබායි...\n",
            "9  10      0                          5 දෙනා කිව්වෙ මේ පස්දෙනාද\n"
          ]
        }
      ]
    },
    {
      "cell_type": "code",
      "source": [
        "mixed_texts = [\n",
        "    \"මූගෙ මුහුණ බලන්නෙත් අහිංසක වළලු කෙරෙන්න තමා\",                 # 1\n",
        "    \"28ක් වගේ ලු, හැමවිටම සීරියස් mood එකකයි\",                      # 0\n",
        "    \"උඹ වගේ ගොන්ජයෙක්ට කොහෙද මෙච්චර හිතෙන හැටි\",                   # 1\n",
        "    \"2020 එනවා කිව්නාට මෙහෙම එයි කියලා හිතුවේ නෑ පට්ට\",               # 0\n",
        "    \"අර බූරු බයියගේම කතාවක් නේද මේක?\",                            # 1\n",
        "    \"25 කැල්ලහම්මෝ\",                                                # 0\n",
        "    \"ඇන්ඩා පල, උඹට කතා කරන්නවත් ලැජ්ජාවක් නැද්ද?\",                  # 1\n",
        "    \"25 කෙල්ල අයියලගෙ කාලද කොහෙද ඉන්නෙ\",                             # 1\n",
        "    \"කියන දේවල් රිදෙන්නත් නැහැ, මෝඩකම ගොඩක් වැඩි\",                    # 1\n",
        "    \"25 ක් වගේ ???ඉතින් වැලලියන්\",                                   # 1\n",
        "    \"25 ලුක් එක දැකල ඔලුව සවුත්තු උන තරිදු\",                          # 0\n",
        "    \"කෙල්ලෝ අස්සෙ හිටගෙන ගොන් සීන් දාන්නෙ නවත්තපං උඹ\",                # 1\n",
        "    \"33ක් ගුවන්තොටුපළවල ලෝකයේ හිරවෙලා ඉන්නවා ඩුබායි...\",               # 0\n",
        "    \"අනේ මචං, comment එකක් දාන්න කලින් මොළය ගහපං\",                     # 1\n",
        "    \"මූ හිතනවද අපි ගොං කියලා? කාලකන්නිලා ටික!\",                     # 1\n",
        "    \"විකාර එකෙක්, හැමදාම attention ගන්නයි සෙට් වෙන්නෙ\",                  # 1\n",
        "    \"නිකන්ම කියන්නෙ නෑ නේද, මෝඩයෙක් නේද උඹ\",                         # 1\n",
        "    \"33ක් වගේ ඇඳලා ඇවිල්ලා, හැබැයි හැඟීම 16යි\",                     # 0\n",
        "    \"අර 28 කෙල්ලට නම calling එකේ තියෙන්නේ 'අම්මගෙම ඩෙවි'\",              # 1\n",
        "    \"32ත් වුණාම කට්ටියටම කතා කරන්න ඕනෙ කියල හිතෙනව\",                   # 0\n",
        "    \"ඔයාට තාම මොළය වැඩ කරන්නේ නැතිද?\",                              # 1\n",
        "    \"comment එකක් දාන්නෙත් ටිකක් බුද්ධියෙන් දාපං, ගොන් ගහලා නොබසිලා\",      # 1\n",
        "    \"18ක් වගේ තරුණි, ඒත් දරුණු ලොකු වැඩ\",                              # 0\n",
        "    \"මූ කියන දේවල් අහලා හිතෙන්නෙ පාටක් පමණයි\",                         # 1\n",
        "    \"කියන්නෙ නෑ නෙමෙයි, උඹ වගේ ගොන්ට කවදාවත් තේරෙන්නෙ නෑ\",              # 1\n",
        "    \"33ක් වගේම හොඳයි, peaceful vibe එකක් තියෙනවා\",                      # 0\n",
        "    \"අර අයියේ status කියවද්දි හිනා වෙනවා නෙමෙයි, ලැජ්ජාවයි\",               # 1\n",
        "    \"මූව වගේ පට්ට නරක හැසිරෙන්නෙ බලන්නෙ attention එකට විතරයි\",            # 1\n",
        "]\n",
        "\n",
        "def predict_text(text, model, tokenizer, device):\n",
        "    model.eval()\n",
        "    inputs = tokenizer(\n",
        "        text,\n",
        "        return_tensors='pt',\n",
        "        truncation=True,\n",
        "        padding=True,\n",
        "        max_length=128\n",
        "    ).to(device)\n",
        "\n",
        "    with torch.no_grad():\n",
        "        outputs = model(**inputs)\n",
        "        predictions = torch.nn.functional.softmax(outputs.logits, dim=-1)\n",
        "        predicted_class = torch.argmax(predictions, dim=-1).item()\n",
        "        confidence = predictions[0][predicted_class].item()\n",
        "\n",
        "    return predicted_class, confidence\n",
        "\n",
        "print(\"\\nSample Predictions:\")\n",
        "for text in mixed_texts:\n",
        "    pred_class, confidence = predict_text(text, model, tokenizer, device)\n",
        "    print(f\"Text: {text}\")\n",
        "    print(f\"Predicted class: {pred_class}, Confidence: {confidence:.3f}\")\n",
        "    print(\"-\" * 50)"
      ],
      "metadata": {
        "colab": {
          "base_uri": "https://localhost:8080/"
        },
        "id": "H862A4wlc2mf",
        "outputId": "13522bc0-4d3c-43f6-f089-a6b1daf4a396"
      },
      "execution_count": 45,
      "outputs": [
        {
          "output_type": "stream",
          "name": "stdout",
          "text": [
            "\n",
            "Sample Predictions:\n",
            "Text: මූගෙ මුහුණ බලන්නෙත් අහිංසක වළලු කෙරෙන්න තමා\n",
            "Predicted class: 1, Confidence: 0.996\n",
            "--------------------------------------------------\n",
            "Text: 28ක් වගේ ලු, හැමවිටම සීරියස් mood එකකයි\n",
            "Predicted class: 0, Confidence: 0.980\n",
            "--------------------------------------------------\n",
            "Text: උඹ වගේ ගොන්ජයෙක්ට කොහෙද මෙච්චර හිතෙන හැටි\n",
            "Predicted class: 1, Confidence: 0.990\n",
            "--------------------------------------------------\n",
            "Text: 2020 එනවා කිව්නාට මෙහෙම එයි කියලා හිතුවේ නෑ පට්ට\n",
            "Predicted class: 0, Confidence: 0.976\n",
            "--------------------------------------------------\n",
            "Text: අර බූරු බයියගේම කතාවක් නේද මේක?\n",
            "Predicted class: 1, Confidence: 0.864\n",
            "--------------------------------------------------\n",
            "Text: 25 කැල්ලහම්මෝ\n",
            "Predicted class: 1, Confidence: 0.984\n",
            "--------------------------------------------------\n",
            "Text: ඇන්ඩා පල, උඹට කතා කරන්නවත් ලැජ්ජාවක් නැද්ද?\n",
            "Predicted class: 1, Confidence: 0.997\n",
            "--------------------------------------------------\n",
            "Text: 25 කෙල්ල අයියලගෙ කාලද කොහෙද ඉන්නෙ\n",
            "Predicted class: 1, Confidence: 0.927\n",
            "--------------------------------------------------\n",
            "Text: කියන දේවල් රිදෙන්නත් නැහැ, මෝඩකම ගොඩක් වැඩි\n",
            "Predicted class: 0, Confidence: 0.949\n",
            "--------------------------------------------------\n",
            "Text: 25 ක් වගේ ???ඉතින් වැලලියන්\n",
            "Predicted class: 1, Confidence: 0.997\n",
            "--------------------------------------------------\n",
            "Text: 25 ලුක් එක දැකල ඔලුව සවුත්තු උන තරිදු\n",
            "Predicted class: 1, Confidence: 0.967\n",
            "--------------------------------------------------\n",
            "Text: කෙල්ලෝ අස්සෙ හිටගෙන ගොන් සීන් දාන්නෙ නවත්තපං උඹ\n",
            "Predicted class: 1, Confidence: 0.994\n",
            "--------------------------------------------------\n",
            "Text: 33ක් ගුවන්තොටුපළවල ලෝකයේ හිරවෙලා ඉන්නවා ඩුබායි...\n",
            "Predicted class: 0, Confidence: 0.939\n",
            "--------------------------------------------------\n",
            "Text: අනේ මචං, comment එකක් දාන්න කලින් මොළය ගහපං\n",
            "Predicted class: 0, Confidence: 0.856\n",
            "--------------------------------------------------\n",
            "Text: මූ හිතනවද අපි ගොං කියලා? කාලකන්නිලා ටික!\n",
            "Predicted class: 1, Confidence: 0.985\n",
            "--------------------------------------------------\n",
            "Text: විකාර එකෙක්, හැමදාම attention ගන්නයි සෙට් වෙන්නෙ\n",
            "Predicted class: 1, Confidence: 0.983\n",
            "--------------------------------------------------\n",
            "Text: නිකන්ම කියන්නෙ නෑ නේද, මෝඩයෙක් නේද උඹ\n",
            "Predicted class: 1, Confidence: 0.707\n",
            "--------------------------------------------------\n",
            "Text: 33ක් වගේ ඇඳලා ඇවිල්ලා, හැබැයි හැඟීම 16යි\n",
            "Predicted class: 0, Confidence: 0.973\n",
            "--------------------------------------------------\n",
            "Text: අර 28 කෙල්ලට නම calling එකේ තියෙන්නේ 'අම්මගෙම ඩෙවි'\n",
            "Predicted class: 0, Confidence: 0.913\n",
            "--------------------------------------------------\n",
            "Text: 32ත් වුණාම කට්ටියටම කතා කරන්න ඕනෙ කියල හිතෙනව\n",
            "Predicted class: 0, Confidence: 0.996\n",
            "--------------------------------------------------\n",
            "Text: ඔයාට තාම මොළය වැඩ කරන්නේ නැතිද?\n",
            "Predicted class: 0, Confidence: 0.918\n",
            "--------------------------------------------------\n",
            "Text: comment එකක් දාන්නෙත් ටිකක් බුද්ධියෙන් දාපං, ගොන් ගහලා නොබසිලා\n",
            "Predicted class: 1, Confidence: 0.922\n",
            "--------------------------------------------------\n",
            "Text: 18ක් වගේ තරුණි, ඒත් දරුණු ලොකු වැඩ\n",
            "Predicted class: 0, Confidence: 0.800\n",
            "--------------------------------------------------\n",
            "Text: මූ කියන දේවල් අහලා හිතෙන්නෙ පාටක් පමණයි\n",
            "Predicted class: 1, Confidence: 0.962\n",
            "--------------------------------------------------\n",
            "Text: කියන්නෙ නෑ නෙමෙයි, උඹ වගේ ගොන්ට කවදාවත් තේරෙන්නෙ නෑ\n",
            "Predicted class: 1, Confidence: 0.995\n",
            "--------------------------------------------------\n",
            "Text: 33ක් වගේම හොඳයි, peaceful vibe එකක් තියෙනවා\n",
            "Predicted class: 0, Confidence: 0.998\n",
            "--------------------------------------------------\n",
            "Text: අර අයියේ status කියවද්දි හිනා වෙනවා නෙමෙයි, ලැජ්ජාවයි\n",
            "Predicted class: 0, Confidence: 0.996\n",
            "--------------------------------------------------\n",
            "Text: මූව වගේ පට්ට නරක හැසිරෙන්නෙ බලන්නෙ attention එකට විතරයි\n",
            "Predicted class: 1, Confidence: 0.998\n",
            "--------------------------------------------------\n"
          ]
        }
      ]
    },
    {
      "cell_type": "code",
      "source": [
        "training_history = trainer.state.log_history\n",
        "\n",
        "train_loss = [log['train_loss'] for log in training_history if 'train_loss' in log]\n",
        "eval_loss = [log['eval_loss'] for log in training_history if 'eval_loss' in log]\n",
        "eval_f1 = [log['eval_f1'] for log in training_history if 'eval_f1' in log]\n",
        "\n",
        "plt.figure(figsize=(15, 5))\n",
        "\n",
        "plt.subplot(1, 3, 1)\n",
        "plt.plot(train_loss, label='Training Loss')\n",
        "plt.title('Training Loss')\n",
        "plt.xlabel('Steps')\n",
        "plt.ylabel('Loss')\n",
        "plt.legend()\n",
        "\n",
        "plt.subplot(1, 3, 2)\n",
        "plt.plot(eval_loss, label='Validation Loss')\n",
        "plt.title('Validation Loss')\n",
        "plt.xlabel('Steps')\n",
        "plt.ylabel('Loss')\n",
        "plt.legend()\n",
        "\n",
        "plt.subplot(1, 3, 3)\n",
        "plt.plot(eval_f1, label='Validation F1')\n",
        "plt.title('Validation F1 Score')\n",
        "plt.xlabel('Steps')\n",
        "plt.ylabel('F1 Score')\n",
        "plt.legend()\n",
        "\n",
        "plt.tight_layout()\n",
        "plt.show()"
      ],
      "metadata": {
        "colab": {
          "base_uri": "https://localhost:8080/",
          "height": 224
        },
        "id": "S2eU7GwGc9H9",
        "outputId": "660aed97-b3f3-4a4d-a7e9-173f8185e2f1"
      },
      "execution_count": 46,
      "outputs": [
        {
          "output_type": "display_data",
          "data": {
            "text/plain": [
              "<Figure size 1500x500 with 3 Axes>"
            ],
            "image/png": "[encoded data removed]"
          },
          "metadata": {}
        }
      ]
    },
    {
      "cell_type": "code",
      "source": [
        "def load_and_predict_batch(model_path, texts, device='cpu'):\n",
        "    \"\"\"\n",
        "    Load the fine-tuned model and make predictions on a list of texts.\n",
        "    Returns a list of tuples: (predicted_class, confidence) for each text.\n",
        "    \"\"\"\n",
        "    tokenizer = AutoTokenizer.from_pretrained(model_path)\n",
        "    model = AutoModelForSequenceClassification.from_pretrained(model_path)\n",
        "    model.to(device)\n",
        "    model.eval()\n",
        "\n",
        "    # Tokenize the batch of texts\n",
        "    inputs = tokenizer(\n",
        "        texts,\n",
        "        return_tensors='pt',\n",
        "        truncation=True,\n",
        "        padding=True,\n",
        "        max_length=90\n",
        "    ).to(device)\n",
        "\n",
        "    with torch.no_grad():\n",
        "        outputs = model(**inputs)\n",
        "        predictions = torch.nn.functional.softmax(outputs.logits, dim=-1)\n",
        "        predicted_classes = torch.argmax(predictions, dim=-1)\n",
        "\n",
        "    results = []\n",
        "    for i in range(len(texts)):\n",
        "        pred_class = predicted_classes[i].item()\n",
        "        confidence = predictions[i][pred_class].item()\n",
        "        results.append((pred_class, confidence))\n",
        "\n",
        "    return results\n",
        "\n",
        "# Example usage\n",
        "texts = [\n",
        "    \"මම සතුටින් ඉන්නවා\",\n",
        "    \"උබ මූට වගේ ගොංකමක්, මොළයක් නැති ගොඩක් බකට්ටෙක්!\"\n",
        "]\n",
        "\n",
        "predictions = load_and_predict_batch('./fine_tuned_sinhala_model', texts)\n",
        "for text, (pred_class, confidence) in zip(texts, predictions):\n",
        "    print(f\"Text: {text}\\nPrediction: {pred_class}, Confidence: {confidence:.3f}\\n\")\n",
        "\n",
        "print(\"\\nTraining completed successfully!\")\n",
        "print(\"Model saved to: ./fine_tuned_sinhala_model\")\n",
        "print(\"You can now use the model for inference on new Sinhala text!\")"
      ],
      "metadata": {
        "colab": {
          "base_uri": "https://localhost:8080/"
        },
        "id": "sdlF_X2gfYrR",
        "outputId": "256cba57-4e38-4cef-e381-dd21e94b4823"
      },
      "execution_count": 50,
      "outputs": [
        {
          "output_type": "stream",
          "name": "stdout",
          "text": [
            "Text: මම සතුටින් ඉන්නවා\n",
            "Prediction: 0, Confidence: 0.996\n",
            "\n",
            "Text: උබ මූට වගේ ගොංකමක්, මොළයක් නැති ගොඩක් බකට්ටෙක්!\n",
            "Prediction: 1, Confidence: 0.997\n",
            "\n",
            "\n",
            "Training completed successfully!\n",
            "Model saved to: ./fine_tuned_sinhala_model\n",
            "You can now use the model for inference on new Sinhala text!\n"
          ]
        }
      ]
    }
  ]
}
